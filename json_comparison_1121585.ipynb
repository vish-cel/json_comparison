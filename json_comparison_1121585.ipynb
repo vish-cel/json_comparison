{
 "cells": [
  {
   "cell_type": "code",
   "execution_count": 5,
   "id": "b5e01529-cc96-4356-9da5-c32a30866e75",
   "metadata": {},
   "outputs": [],
   "source": [
    "import json\n",
    "from difflib import SequenceMatcher"
   ]
  },
  {
   "cell_type": "code",
   "execution_count": 4,
   "id": "82e108ce-fa4f-4444-95ec-b01853da60cd",
   "metadata": {},
   "outputs": [
    {
     "ename": "NameError",
     "evalue": "name 'json' is not defined",
     "output_type": "error",
     "traceback": [
      "\u001b[31m---------------------------------------------------------------------------\u001b[39m",
      "\u001b[31mNameError\u001b[39m                                 Traceback (most recent call last)",
      "\u001b[36mCell\u001b[39m\u001b[36m \u001b[39m\u001b[32mIn[4]\u001b[39m\u001b[32m, line 5\u001b[39m\n\u001b[32m      1\u001b[39m \u001b[38;5;66;03m# Load JSON files\u001b[39;00m\n\u001b[32m      2\u001b[39m \u001b[38;5;28;01mwith\u001b[39;00m \u001b[38;5;28mopen\u001b[39m(\u001b[33mr\u001b[39m\u001b[33m\"\u001b[39m\u001b[33mC:\u001b[39m\u001b[33m\\\u001b[39m\u001b[33mUsers\u001b[39m\u001b[33m\\\u001b[39m\u001b[33mCEL\u001b[39m\u001b[33m\\\u001b[39m\u001b[33mDesktop\u001b[39m\u001b[33m\\\u001b[39m\u001b[33mverbal_autopsy\u001b[39m\u001b[33m\\\u001b[39m\u001b[33moutputs\u001b[39m\u001b[33m\\\u001b[39m\u001b[33mopenai_api_outputs\u001b[39m\u001b[33m\\\u001b[39m\u001b[33mVA_Case_1121585_OpenAI API.json\u001b[39m\u001b[33m\"\u001b[39m) \u001b[38;5;28;01mas\u001b[39;00m f1, \\\n\u001b[32m      3\u001b[39m      \u001b[38;5;28mopen\u001b[39m(\u001b[33mr\u001b[39m\u001b[33m\"\u001b[39m\u001b[33mC:\u001b[39m\u001b[33m\\\u001b[39m\u001b[33mUsers\u001b[39m\u001b[33m\\\u001b[39m\u001b[33mCEL\u001b[39m\u001b[33m\\\u001b[39m\u001b[33mDesktop\u001b[39m\u001b[33m\\\u001b[39m\u001b[33mverbal_autopsy\u001b[39m\u001b[33m\\\u001b[39m\u001b[33moutputs\u001b[39m\u001b[33m\\\u001b[39m\u001b[33mchatgpt_outputs\u001b[39m\u001b[33m\\\u001b[39m\u001b[33mVA_Case_1121585_ChatGPT.json\u001b[39m\u001b[33m\"\u001b[39m) \u001b[38;5;28;01mas\u001b[39;00m f2:\n\u001b[32m----> \u001b[39m\u001b[32m5\u001b[39m     api_data = \u001b[43mjson\u001b[49m.load(f1)\n\u001b[32m      6\u001b[39m     chatgpt_data = json.load(f2)\n",
      "\u001b[31mNameError\u001b[39m: name 'json' is not defined"
     ]
    }
   ],
   "source": [
    "# Load JSON files\n",
    "with open(r\"C:\\Users\\CEL\\Desktop\\verbal_autopsy\\outputs\\openai_api_outputs\\VA_Case_1121585_OpenAI API.json\") as f1, \\\n",
    "     open(r\"C:\\Users\\CEL\\Desktop\\verbal_autopsy\\outputs\\chatgpt_outputs\\VA_Case_1121585_ChatGPT.json\") as f2:\n",
    "\n",
    "    api_data = json.load(f1)\n",
    "    chatgpt_data = json.load(f2)"
   ]
  },
  {
   "cell_type": "code",
   "execution_count": 23,
   "id": "43aa900a-ebfd-4fae-8305-dcab7f174be1",
   "metadata": {},
   "outputs": [],
   "source": [
    "# similarity threshold for strings\n",
    "SIMILARITY_THRESHOLD = 0.9\n",
    "ERROR_MARGIN = 0.05 # for numeric values"
   ]
  },
  {
   "cell_type": "code",
   "execution_count": 25,
   "id": "44a6d3d8-923a-40a4-b26e-dcfb4dab3bad",
   "metadata": {},
   "outputs": [
    {
     "name": "stdout",
     "output_type": "stream",
     "text": [
      "All keys being compared (combined):\n",
      "duration2\n",
      "foetusNewbornConditions\n",
      "deathCategory\n",
      "timeOfStillbirth\n",
      "quality\n",
      "certainty\n",
      "immediateCause\n",
      "missingInformationToImproveCertainty\n",
      "diagnosticReasoning\n",
      "notes\n",
      "ageAtDeath\n",
      "reviewTimeTaken\n",
      "caseSummaryFacts\n",
      "placeOfDeath\n",
      "duration3\n",
      "underlyingCause\n",
      "duration1\n",
      "antecedent2\n",
      "needsAdjudication\n",
      "reviewer\n",
      "antecedent1\n",
      "reviewDate\n",
      "maternalConditions\n",
      "caseId\n"
     ]
    }
   ],
   "source": [
    "# Get all unique keys from both files\n",
    "all_keys = set(api_data.keys()).union(chatgpt_data.keys())\n",
    "\n",
    "print(\"All keys being compared (combined):\")\n",
    "for key in all_keys:\n",
    "    print(key)"
   ]
  },
  {
   "cell_type": "code",
   "execution_count": 18,
   "id": "41f8196a-f3b0-46b7-8458-e50a714ea45d",
   "metadata": {},
   "outputs": [],
   "source": [
    "matches = 0\n",
    "total = len(all_keys)"
   ]
  },
  {
   "cell_type": "code",
   "execution_count": 19,
   "id": "4ad56af1-092c-40f2-881f-368cf13a14fa",
   "metadata": {},
   "outputs": [
    {
     "name": "stdout",
     "output_type": "stream",
     "text": [
      "0\n",
      "24\n"
     ]
    }
   ],
   "source": [
    "print(matches)\n",
    "print(total)"
   ]
  },
  {
   "cell_type": "code",
   "execution_count": 20,
   "id": "57f3898a-3c31-4647-a300-033c28f3acd6",
   "metadata": {},
   "outputs": [
    {
     "name": "stdout",
     "output_type": "stream",
     "text": [
      "Matching accuracy (all indicators): 41.67%\n"
     ]
    }
   ],
   "source": [
    "for key in all_keys:\n",
    "    val1 = api_data.get(key)\n",
    "    val2 = chatgpt_data.get(key)\n",
    "\n",
    "    if val1 == val2:\n",
    "        matches += 1\n",
    "    elif isinstance(val1, str) and isinstance(val2, str):\n",
    "        ratio = SequenceMatcher(None, val1, val2).ratio()\n",
    "        if ratio >= SIMILARITY_THRESHOLD:\n",
    "            matches += 1\n",
    "    elif isinstance(val1, (int,float)) and isinstance(val2, (int, float)):\n",
    "        if abs(val1 - val2) / max(abs(val1), abs(val2), 1e-6) < ERROR_MARGIN:\n",
    "            matches += 1\n",
    "\n",
    "accuracy = (matches/total) * 100 if total > 0 else 0\n",
    "print(f\"Matching accuracy (all indicators): {accuracy:.2f}%\")"
   ]
  }
 ],
 "metadata": {
  "kernelspec": {
   "display_name": "Python 3 (ipykernel)",
   "language": "python",
   "name": "python3"
  },
  "language_info": {
   "codemirror_mode": {
    "name": "ipython",
    "version": 3
   },
   "file_extension": ".py",
   "mimetype": "text/x-python",
   "name": "python",
   "nbconvert_exporter": "python",
   "pygments_lexer": "ipython3",
   "version": "3.13.5"
  }
 },
 "nbformat": 4,
 "nbformat_minor": 5
}
