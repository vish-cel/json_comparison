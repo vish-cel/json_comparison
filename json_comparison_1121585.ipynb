{
 "cells": [
  {
   "cell_type": "code",
   "execution_count": 13,
   "id": "b5e01529-cc96-4356-9da5-c32a30866e75",
   "metadata": {},
   "outputs": [],
   "source": [
    "import json\n",
    "from difflib import SequenceMatcher"
   ]
  },
  {
   "cell_type": "code",
   "execution_count": 14,
   "id": "82e108ce-fa4f-4444-95ec-b01853da60cd",
   "metadata": {},
   "outputs": [],
   "source": [
    "# Load JSON files\n",
    "with open(r\"C:\\Users\\CEL\\Desktop\\verbal_autopsy\\Open AI\\api_outputs\\VA_Case_1121585_OpenAI API.json\") as f1, \\\n",
    "open(r\"C:\\Users\\CEL\\Desktop\\verbal_autopsy\\Open AI\\chatgpt_outputs\\VA_Case_1121585_ChatGPT.json\") as f2:\n",
    "    api_data = json.load(f1)\n",
    "    chatgpt_data = json.load(f2)"
   ]
  },
  {
   "cell_type": "code",
   "execution_count": 15,
   "id": "43aa900a-ebfd-4fae-8305-dcab7f174be1",
   "metadata": {},
   "outputs": [],
   "source": [
    "# similarity threshold for strings\n",
    "SIMILARITY_THRESHOLD = 0.9\n",
    "ERROR_MARGIN = 0.05 # for numeric values"
   ]
  },
  {
   "cell_type": "code",
   "execution_count": 18,
   "id": "44a6d3d8-923a-40a4-b26e-dcfb4dab3bad",
   "metadata": {},
   "outputs": [],
   "source": [
    "# Get all unique keys from both files\n",
    "all_keys = set(api_data.keys()).union(chatgpt_data.keys())"
   ]
  },
  {
   "cell_type": "code",
   "execution_count": 19,
   "id": "41f8196a-f3b0-46b7-8458-e50a714ea45d",
   "metadata": {},
   "outputs": [],
   "source": [
    "matches = 0\n",
    "total = len(all_keys)"
   ]
  },
  {
   "cell_type": "code",
   "execution_count": 21,
   "id": "57f3898a-3c31-4647-a300-033c28f3acd6",
   "metadata": {},
   "outputs": [
    {
     "name": "stdout",
     "output_type": "stream",
     "text": [
      "Matching accuracy (all indicators): 54.17%\n"
     ]
    }
   ],
   "source": [
    "for key in all_keys:\n",
    "    val1 = api_data.get(key)\n",
    "    val2 = chatgpt_data.get(key)\n",
    "\n",
    "    if val1 == val2:\n",
    "        matches += 1\n",
    "    elif isinstance(val1, str) and isinstance(val2, str):\n",
    "        ratio = SequenceMatcher(None, val1, val2).ratio()\n",
    "        if ratio >= SIMILARITY_THRESHOLD:\n",
    "            matches += 1\n",
    "    elif isinstance(val1, (int,float)) and isinstance(val2, (int, float)):\n",
    "        if abs(val1 - val2) / max(abs(val1), abs(val2), 1e-6) < ERROR_MARGIN:\n",
    "            matches += 1\n",
    "\n",
    "accuracy = (matches/total) * 100 if total > 0 else 0\n",
    "print(f\"Matching accuracy (all indicators): {accuracy:.2f}%\")"
   ]
  },
  {
   "cell_type": "code",
   "execution_count": null,
   "id": "d99e86eb-a8f7-4455-b23a-85b47bb52982",
   "metadata": {},
   "outputs": [],
   "source": []
  }
 ],
 "metadata": {
  "kernelspec": {
   "display_name": "Python 3 (ipykernel)",
   "language": "python",
   "name": "python3"
  },
  "language_info": {
   "codemirror_mode": {
    "name": "ipython",
    "version": 3
   },
   "file_extension": ".py",
   "mimetype": "text/x-python",
   "name": "python",
   "nbconvert_exporter": "python",
   "pygments_lexer": "ipython3",
   "version": "3.13.5"
  }
 },
 "nbformat": 4,
 "nbformat_minor": 5
}
